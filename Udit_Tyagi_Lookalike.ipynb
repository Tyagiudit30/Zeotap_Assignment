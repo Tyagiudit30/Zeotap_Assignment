{
 "cells": [
  {
   "cell_type": "markdown",
   "id": "545c6ea0",
   "metadata": {},
   "source": [
    "## Setup and Load Datasets"
   ]
  },
  {
   "cell_type": "code",
   "execution_count": 1,
   "id": "a8b0d6d8",
   "metadata": {},
   "outputs": [
    {
     "name": "stdout",
     "output_type": "stream",
     "text": [
      "Customers Dataset:\n",
      "  CustomerID        CustomerName         Region  SignupDate\n",
      "0      C0001    Lawrence Carroll  South America  2022-07-10\n",
      "1      C0002      Elizabeth Lutz           Asia  2022-02-13\n",
      "2      C0003      Michael Rivera  South America  2024-03-07\n",
      "3      C0004  Kathleen Rodriguez  South America  2022-10-09\n",
      "4      C0005         Laura Weber           Asia  2022-08-15\n",
      "\n",
      "Products Dataset:\n",
      "  ProductID              ProductName     Category   Price\n",
      "0      P001     ActiveWear Biography        Books  169.30\n",
      "1      P002    ActiveWear Smartwatch  Electronics  346.30\n",
      "2      P003  ComfortLiving Biography        Books   44.12\n",
      "3      P004            BookWorld Rug   Home Decor   95.69\n",
      "4      P005          TechPro T-Shirt     Clothing  429.31\n",
      "\n",
      "Transactions Dataset:\n",
      "  TransactionID CustomerID ProductID      TransactionDate  Quantity  \\\n",
      "0        T00001      C0199      P067  2024-08-25 12:38:23         1   \n",
      "1        T00112      C0146      P067  2024-05-27 22:23:54         1   \n",
      "2        T00166      C0127      P067  2024-04-25 07:38:55         1   \n",
      "3        T00272      C0087      P067  2024-03-26 22:55:37         2   \n",
      "4        T00363      C0070      P067  2024-03-21 15:10:10         3   \n",
      "\n",
      "   TotalValue   Price  \n",
      "0      300.68  300.68  \n",
      "1      300.68  300.68  \n",
      "2      300.68  300.68  \n",
      "3      601.36  300.68  \n",
      "4      902.04  300.68  \n"
     ]
    }
   ],
   "source": [
    "# Import libraries\n",
    "import pandas as pd\n",
    "import numpy as np\n",
    "from sklearn.preprocessing import StandardScaler\n",
    "from sklearn.metrics.pairwise import cosine_similarity\n",
    "\n",
    "# Load datasets\n",
    "customers = pd.read_csv(\"Customers.csv\")  # Replace with your file path\n",
    "products = pd.read_csv(\"Products.csv\")\n",
    "transactions = pd.read_csv(\"Transactions.csv\")\n",
    "\n",
    "# Display the first few rows of each dataset\n",
    "print(\"Customers Dataset:\")\n",
    "print(customers.head())\n",
    "\n",
    "print(\"\\nProducts Dataset:\")\n",
    "print(products.head())\n",
    "\n",
    "print(\"\\nTransactions Dataset:\")\n",
    "print(transactions.head())\n"
   ]
  },
  {
   "cell_type": "markdown",
   "id": "d396ad4e",
   "metadata": {},
   "source": [
    "## Merge and Preprocess Data\n",
    "### Combine the datasets into a single DataFrame and create useful features."
   ]
  },
  {
   "cell_type": "code",
   "execution_count": 2,
   "id": "ebbba7ad",
   "metadata": {},
   "outputs": [
    {
     "name": "stdout",
     "output_type": "stream",
     "text": [
      "\n",
      "Merged Dataset:\n",
      "  TransactionID CustomerID ProductID      TransactionDate  Quantity  \\\n",
      "0        T00001      C0199      P067  2024-08-25 12:38:23         1   \n",
      "1        T00112      C0146      P067  2024-05-27 22:23:54         1   \n",
      "2        T00166      C0127      P067  2024-04-25 07:38:55         1   \n",
      "3        T00272      C0087      P067  2024-03-26 22:55:37         2   \n",
      "4        T00363      C0070      P067  2024-03-21 15:10:10         3   \n",
      "\n",
      "   TotalValue  Price_x                      ProductName     Category  Price_y  \\\n",
      "0      300.68   300.68  ComfortLiving Bluetooth Speaker  Electronics   300.68   \n",
      "1      300.68   300.68  ComfortLiving Bluetooth Speaker  Electronics   300.68   \n",
      "2      300.68   300.68  ComfortLiving Bluetooth Speaker  Electronics   300.68   \n",
      "3      601.36   300.68  ComfortLiving Bluetooth Speaker  Electronics   300.68   \n",
      "4      902.04   300.68  ComfortLiving Bluetooth Speaker  Electronics   300.68   \n",
      "\n",
      "      CustomerName         Region  SignupDate  \n",
      "0   Andrea Jenkins         Europe  2022-12-03  \n",
      "1  Brittany Harvey           Asia  2024-09-04  \n",
      "2  Kathryn Stevens         Europe  2024-04-04  \n",
      "3  Travis Campbell  South America  2024-04-11  \n",
      "4    Timothy Perez         Europe  2022-03-15  \n"
     ]
    }
   ],
   "source": [
    "# Merge Transactions with Products\n",
    "transactions_products = transactions.merge(products, on=\"ProductID\", how=\"left\")\n",
    "\n",
    "# Merge with Customers\n",
    "full_data = transactions_products.merge(customers, on=\"CustomerID\", how=\"left\")\n",
    "\n",
    "# Display merged data\n",
    "print(\"\\nMerged Dataset:\")\n",
    "print(full_data.head())\n"
   ]
  },
  {
   "cell_type": "markdown",
   "id": "12df9edb",
   "metadata": {},
   "source": [
    "### Feature Engineering:"
   ]
  },
  {
   "cell_type": "code",
   "execution_count": 3,
   "id": "5157dd65",
   "metadata": {},
   "outputs": [
    {
     "name": "stdout",
     "output_type": "stream",
     "text": [
      "\n",
      "Customer Features:\n",
      "  CustomerID        CustomerName         Region  SignupDate  TotalSpending  \\\n",
      "0      C0001    Lawrence Carroll  South America  2022-07-10        3354.52   \n",
      "1      C0002      Elizabeth Lutz           Asia  2022-02-13        1862.74   \n",
      "2      C0003      Michael Rivera  South America  2024-03-07        2725.38   \n",
      "3      C0004  Kathleen Rodriguez  South America  2022-10-09        5354.88   \n",
      "4      C0005         Laura Weber           Asia  2022-08-15        2034.24   \n",
      "\n",
      "   AvgTransactionValue  \n",
      "0              670.904  \n",
      "1              465.685  \n",
      "2              681.345  \n",
      "3              669.360  \n",
      "4              678.080  \n"
     ]
    }
   ],
   "source": [
    "# Total spending per customer\n",
    "customer_spending = full_data.groupby('CustomerID')['TotalValue'].sum().reset_index()\n",
    "customer_spending.rename(columns={'TotalValue': 'TotalSpending'}, inplace=True)\n",
    "\n",
    "# Average transaction value per customer\n",
    "avg_transaction = full_data.groupby('CustomerID')['TotalValue'].mean().reset_index()\n",
    "avg_transaction.rename(columns={'TotalValue': 'AvgTransactionValue'}, inplace=True)\n",
    "\n",
    "# Combine features into a single DataFrame\n",
    "customer_features = customers.merge(customer_spending, on='CustomerID', how='left')\n",
    "customer_features = customer_features.merge(avg_transaction, on='CustomerID', how='left')\n",
    "\n",
    "# Fill missing values with 0\n",
    "customer_features.fillna(0, inplace=True)\n",
    "print(\"\\nCustomer Features:\")\n",
    "print(customer_features.head())\n"
   ]
  },
  {
   "cell_type": "markdown",
   "id": "3e2b1137",
   "metadata": {},
   "source": [
    "## Normalize Features"
   ]
  },
  {
   "cell_type": "code",
   "execution_count": 5,
   "id": "16be11b8",
   "metadata": {},
   "outputs": [],
   "source": [
    "\n",
    "\n",
    "# Normalize Features\n",
    "scaler = StandardScaler()\n",
    "# Select only numerical features for scaling\n",
    "numerical_features = customer_features.select_dtypes(include=['number']).iloc[:, 1:] \n",
    "customer_features_scaled = scaler.fit_transform(numerical_features)  # Scale numerical columns\n"
   ]
  },
  {
   "cell_type": "markdown",
   "id": "bb61d51d",
   "metadata": {},
   "source": [
    "## Compute Similarity and Generate Lookalikes"
   ]
  },
  {
   "cell_type": "code",
   "execution_count": 6,
   "id": "6cb478b9",
   "metadata": {},
   "outputs": [
    {
     "name": "stdout",
     "output_type": "stream",
     "text": [
      "Customer C0001 -> Lookalikes: [('C0095', 1.0), ('C0094', 1.0), ('C0093', 1.0)]\n",
      "Customer C0002 -> Lookalikes: [('C0095', 1.0), ('C0094', 1.0), ('C0093', 1.0)]\n",
      "Customer C0003 -> Lookalikes: [('C0095', 1.0), ('C0094', 1.0), ('C0093', 1.0)]\n",
      "Customer C0004 -> Lookalikes: [('C0095', 1.0), ('C0094', 1.0), ('C0093', 1.0)]\n",
      "Customer C0005 -> Lookalikes: [('C0095', 1.0), ('C0094', 1.0), ('C0093', 1.0)]\n"
     ]
    }
   ],
   "source": [
    "# Compute cosine similarity\n",
    "similarity_matrix = cosine_similarity(customer_features_scaled)\n",
    "\n",
    "# Generate top 3 lookalike recommendations\n",
    "lookalike_dict = {}\n",
    "\n",
    "for idx, customer_id in enumerate(customer_features['CustomerID']):\n",
    "    # Sort similarities in descending order (skip self-similarity)\n",
    "    similar_indices = np.argsort(-similarity_matrix[idx])[1:4]\n",
    "    similar_customers = customer_features.iloc[similar_indices]['CustomerID']\n",
    "    similarity_scores = similarity_matrix[idx][similar_indices]\n",
    "    \n",
    "    # Save results to dictionary\n",
    "    lookalike_dict[customer_id] = list(zip(similar_customers, similarity_scores))\n",
    "\n",
    "# Preview the lookalike recommendations\n",
    "for key, value in list(lookalike_dict.items())[:5]:  # Show first 5 customers\n",
    "    print(f\"Customer {key} -> Lookalikes: {value}\")\n"
   ]
  },
  {
   "cell_type": "markdown",
   "id": "c6f35710",
   "metadata": {},
   "source": [
    "## Save Results"
   ]
  },
  {
   "cell_type": "code",
   "execution_count": 7,
   "id": "e53cf985",
   "metadata": {},
   "outputs": [
    {
     "name": "stdout",
     "output_type": "stream",
     "text": [
      "\n",
      "Lookalike.csv created successfully!\n"
     ]
    }
   ],
   "source": [
    "# Create Lookalike.csv\n",
    "lookalike_list = []\n",
    "\n",
    "for cust_id, lookalikes in lookalike_dict.items():\n",
    "    for lookalike_id, score in lookalikes:\n",
    "        lookalike_list.append([cust_id, lookalike_id, score])\n",
    "\n",
    "lookalike_df = pd.DataFrame(lookalike_list, columns=['CustomerID', 'LookalikeID', 'SimilarityScore'])\n",
    "lookalike_df.to_csv(\"Lookalike.csv\", index=False)\n",
    "\n",
    "print(\"\\nLookalike.csv created successfully!\")\n"
   ]
  },
  {
   "cell_type": "code",
   "execution_count": null,
   "id": "96b4a989",
   "metadata": {},
   "outputs": [],
   "source": []
  },
  {
   "cell_type": "code",
   "execution_count": null,
   "id": "6e441743",
   "metadata": {},
   "outputs": [],
   "source": []
  }
 ],
 "metadata": {
  "kernelspec": {
   "display_name": "Python 3 (ipykernel)",
   "language": "python",
   "name": "python3"
  },
  "language_info": {
   "codemirror_mode": {
    "name": "ipython",
    "version": 3
   },
   "file_extension": ".py",
   "mimetype": "text/x-python",
   "name": "python",
   "nbconvert_exporter": "python",
   "pygments_lexer": "ipython3",
   "version": "3.11.5"
  }
 },
 "nbformat": 4,
 "nbformat_minor": 5
}
