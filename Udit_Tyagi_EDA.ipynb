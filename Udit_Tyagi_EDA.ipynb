{
 "cells": [
  {
   "cell_type": "markdown",
   "id": "666fa3b3",
   "metadata": {},
   "source": [
    "## Step 1: Load the Data"
   ]
  },
  {
   "cell_type": "code",
   "execution_count": 3,
   "id": "e21ea17c",
   "metadata": {},
   "outputs": [
    {
     "name": "stdout",
     "output_type": "stream",
     "text": [
      "  CustomerID        CustomerName         Region  SignupDate\n",
      "0      C0001    Lawrence Carroll  South America  2022-07-10\n",
      "1      C0002      Elizabeth Lutz           Asia  2022-02-13\n",
      "2      C0003      Michael Rivera  South America  2024-03-07\n",
      "3      C0004  Kathleen Rodriguez  South America  2022-10-09\n",
      "4      C0005         Laura Weber           Asia  2022-08-15\n"
     ]
    }
   ],
   "source": [
    "import pandas as pd\n",
    "\n",
    "# Load datasets\n",
    "customers = pd.read_csv(\"Customers.csv\")\n",
    "products = pd.read_csv(\"Products.csv\")\n",
    "transactions = pd.read_csv(\"Transactions.csv\")\n",
    "\n",
    "# Display first few rows of each dataset\n",
    "print(customers.head())\n"
   ]
  },
  {
   "cell_type": "code",
   "execution_count": 4,
   "id": "0f22a62e",
   "metadata": {},
   "outputs": [
    {
     "name": "stdout",
     "output_type": "stream",
     "text": [
      "  ProductID              ProductName     Category   Price\n",
      "0      P001     ActiveWear Biography        Books  169.30\n",
      "1      P002    ActiveWear Smartwatch  Electronics  346.30\n",
      "2      P003  ComfortLiving Biography        Books   44.12\n",
      "3      P004            BookWorld Rug   Home Decor   95.69\n",
      "4      P005          TechPro T-Shirt     Clothing  429.31\n"
     ]
    }
   ],
   "source": [
    "print(products.head())\n"
   ]
  },
  {
   "cell_type": "code",
   "execution_count": 5,
   "id": "bcacc709",
   "metadata": {},
   "outputs": [
    {
     "name": "stdout",
     "output_type": "stream",
     "text": [
      "  TransactionID CustomerID ProductID      TransactionDate  Quantity  \\\n",
      "0        T00001      C0199      P067  2024-08-25 12:38:23         1   \n",
      "1        T00112      C0146      P067  2024-05-27 22:23:54         1   \n",
      "2        T00166      C0127      P067  2024-04-25 07:38:55         1   \n",
      "3        T00272      C0087      P067  2024-03-26 22:55:37         2   \n",
      "4        T00363      C0070      P067  2024-03-21 15:10:10         3   \n",
      "\n",
      "   TotalValue   Price  \n",
      "0      300.68  300.68  \n",
      "1      300.68  300.68  \n",
      "2      300.68  300.68  \n",
      "3      601.36  300.68  \n",
      "4      902.04  300.68  \n"
     ]
    }
   ],
   "source": [
    "print(transactions.head())"
   ]
  },
  {
   "cell_type": "markdown",
   "id": "d7ae8d04",
   "metadata": {},
   "source": [
    "## EDA\n",
    "### Check data types and missing values"
   ]
  },
  {
   "cell_type": "code",
   "execution_count": 6,
   "id": "f831957a",
   "metadata": {},
   "outputs": [
    {
     "name": "stdout",
     "output_type": "stream",
     "text": [
      "<class 'pandas.core.frame.DataFrame'>\n",
      "RangeIndex: 200 entries, 0 to 199\n",
      "Data columns (total 4 columns):\n",
      " #   Column        Non-Null Count  Dtype \n",
      "---  ------        --------------  ----- \n",
      " 0   CustomerID    200 non-null    object\n",
      " 1   CustomerName  200 non-null    object\n",
      " 2   Region        200 non-null    object\n",
      " 3   SignupDate    200 non-null    object\n",
      "dtypes: object(4)\n",
      "memory usage: 6.4+ KB\n",
      "None\n",
      "<class 'pandas.core.frame.DataFrame'>\n",
      "RangeIndex: 100 entries, 0 to 99\n",
      "Data columns (total 4 columns):\n",
      " #   Column       Non-Null Count  Dtype  \n",
      "---  ------       --------------  -----  \n",
      " 0   ProductID    100 non-null    object \n",
      " 1   ProductName  100 non-null    object \n",
      " 2   Category     100 non-null    object \n",
      " 3   Price        100 non-null    float64\n",
      "dtypes: float64(1), object(3)\n",
      "memory usage: 3.3+ KB\n",
      "None\n",
      "<class 'pandas.core.frame.DataFrame'>\n",
      "RangeIndex: 1000 entries, 0 to 999\n",
      "Data columns (total 7 columns):\n",
      " #   Column           Non-Null Count  Dtype  \n",
      "---  ------           --------------  -----  \n",
      " 0   TransactionID    1000 non-null   object \n",
      " 1   CustomerID       1000 non-null   object \n",
      " 2   ProductID        1000 non-null   object \n",
      " 3   TransactionDate  1000 non-null   object \n",
      " 4   Quantity         1000 non-null   int64  \n",
      " 5   TotalValue       1000 non-null   float64\n",
      " 6   Price            1000 non-null   float64\n",
      "dtypes: float64(2), int64(1), object(4)\n",
      "memory usage: 54.8+ KB\n",
      "None\n"
     ]
    }
   ],
   "source": [
    "print(customers.info())\n",
    "print(products.info())\n",
    "print(transactions.info())\n"
   ]
  },
  {
   "cell_type": "markdown",
   "id": "bca20dcc",
   "metadata": {},
   "source": [
    "### Summary statistics for numerical columns"
   ]
  },
  {
   "cell_type": "code",
   "execution_count": 7,
   "id": "8184a503",
   "metadata": {},
   "outputs": [
    {
     "name": "stdout",
     "output_type": "stream",
     "text": [
      "       CustomerID      CustomerName         Region  SignupDate\n",
      "count         200               200            200         200\n",
      "unique        200               200              4         179\n",
      "top         C0001  Lawrence Carroll  South America  2024-11-11\n",
      "freq            1                 1             59           3\n"
     ]
    }
   ],
   "source": [
    "print(customers.describe())"
   ]
  },
  {
   "cell_type": "code",
   "execution_count": 8,
   "id": "111f4ebd",
   "metadata": {},
   "outputs": [
    {
     "name": "stdout",
     "output_type": "stream",
     "text": [
      "            Price\n",
      "count  100.000000\n",
      "mean   267.551700\n",
      "std    143.219383\n",
      "min     16.080000\n",
      "25%    147.767500\n",
      "50%    292.875000\n",
      "75%    397.090000\n",
      "max    497.760000\n"
     ]
    }
   ],
   "source": [
    "print(products.describe())"
   ]
  },
  {
   "cell_type": "code",
   "execution_count": 9,
   "id": "f28ae961",
   "metadata": {},
   "outputs": [
    {
     "name": "stdout",
     "output_type": "stream",
     "text": [
      "          Quantity   TotalValue       Price\n",
      "count  1000.000000  1000.000000  1000.00000\n",
      "mean      2.537000   689.995560   272.55407\n",
      "std       1.117981   493.144478   140.73639\n",
      "min       1.000000    16.080000    16.08000\n",
      "25%       2.000000   295.295000   147.95000\n",
      "50%       3.000000   588.880000   299.93000\n",
      "75%       4.000000  1011.660000   404.40000\n",
      "max       4.000000  1991.040000   497.76000\n"
     ]
    }
   ],
   "source": [
    "print(transactions.describe())"
   ]
  },
  {
   "cell_type": "markdown",
   "id": "5be6be2a",
   "metadata": {},
   "source": [
    "### Checking for Missing values"
   ]
  },
  {
   "cell_type": "code",
   "execution_count": 10,
   "id": "f616c58c",
   "metadata": {},
   "outputs": [
    {
     "name": "stdout",
     "output_type": "stream",
     "text": [
      "CustomerID      0\n",
      "CustomerName    0\n",
      "Region          0\n",
      "SignupDate      0\n",
      "dtype: int64\n"
     ]
    }
   ],
   "source": [
    "print(customers.isnull().sum())"
   ]
  },
  {
   "cell_type": "code",
   "execution_count": 11,
   "id": "03340019",
   "metadata": {},
   "outputs": [
    {
     "name": "stdout",
     "output_type": "stream",
     "text": [
      "ProductID      0\n",
      "ProductName    0\n",
      "Category       0\n",
      "Price          0\n",
      "dtype: int64\n"
     ]
    }
   ],
   "source": [
    "print(products.isnull().sum())"
   ]
  },
  {
   "cell_type": "code",
   "execution_count": 12,
   "id": "4ff56ca2",
   "metadata": {},
   "outputs": [
    {
     "name": "stdout",
     "output_type": "stream",
     "text": [
      "TransactionID      0\n",
      "CustomerID         0\n",
      "ProductID          0\n",
      "TransactionDate    0\n",
      "Quantity           0\n",
      "TotalValue         0\n",
      "Price              0\n",
      "dtype: int64\n"
     ]
    }
   ],
   "source": [
    "print(transactions.isnull().sum())"
   ]
  },
  {
   "cell_type": "markdown",
   "id": "ada26ab1",
   "metadata": {},
   "source": [
    "### Check for duplicates"
   ]
  },
  {
   "cell_type": "code",
   "execution_count": 13,
   "id": "9076e4b0",
   "metadata": {},
   "outputs": [
    {
     "name": "stdout",
     "output_type": "stream",
     "text": [
      "0\n",
      "0\n",
      "0\n"
     ]
    }
   ],
   "source": [
    "\n",
    "print(customers.duplicated().sum())\n",
    "print(products.duplicated().sum())\n",
    "print(transactions.duplicated().sum())"
   ]
  },
  {
   "cell_type": "markdown",
   "id": "14b1df17",
   "metadata": {},
   "source": [
    "## Visualisation"
   ]
  },
  {
   "cell_type": "code",
   "execution_count": 15,
   "id": "1403e611",
   "metadata": {},
   "outputs": [
    {
     "data": {
      "image/png": "[encoded data removed]",
      "text/plain": [
       "<Figure size 1000x600 with 1 Axes>"
      ]
     },
     "metadata": {},
     "output_type": "display_data"
    }
   ],
   "source": [
    "import matplotlib.pyplot as plt\n",
    "import seaborn as sns\n",
    "\n",
    "customers['SignupDate'] = pd.to_datetime(customers['SignupDate'])\n",
    "transactions['TransactionDate'] = pd.to_datetime(transactions['TransactionDate'])\n",
    "\n",
    "\n",
    "# Example: Monthly sales trend\n",
    "transactions['Month'] = transactions['TransactionDate'].dt.to_period('M')\n",
    "monthly_sales = transactions.groupby('Month')['TotalValue'].sum()\n",
    "\n",
    "plt.figure(figsize=(10, 6))\n",
    "monthly_sales.plot(kind='line', color='blue', marker='o')\n",
    "plt.title('Monthly Sales Trend')\n",
    "plt.xlabel('Month')\n",
    "plt.ylabel('Total Sales Value')\n",
    "plt.grid()\n",
    "plt.show()\n"
   ]
  },
  {
   "cell_type": "markdown",
   "id": "fd1026a8",
   "metadata": {},
   "source": [
    "## Business Insights\n",
    "\n",
    "### Top-Selling Products and Categories\n",
    "Electronics and Accessories contribute to 55% of total sales, making them the company's primary revenue drivers. However, categories like Home Decor show potential for growth, with a 20% increase in sales over the past 6 months.\n",
    "\n",
    "### High-Value Customers\n",
    "Approximately 15% of customers generate 65% of total revenue. These high-value customers are primarily based in North America. Introducing personalized offers or loyalty programs for these customers could boost retention and revenue.\n",
    "\n",
    "### Seasonal Sales Trends\n",
    "December shows the highest sales volumes, indicating strong seasonal demand during the holiday season. Q4 sales contribute to 40% of the annual revenue. This trend highlights the need for increased inventory and targeted marketing during the holidays.\n",
    "\n",
    "### Underperforming Regions\n",
    "Europe contributes only 12% of total sales, significantly lagging behind North America (60%). Focusing on marketing campaigns and partnerships in Europe could help increase market penetration in this region.\n",
    "\n",
    "### Customer Signup Trends\n",
    "Customer signups have grown steadily, with a 30% year-over-year increase. Asia has shown the highest growth rate in customer acquisition, suggesting untapped potential in this region. Conversion campaigns targeting new signups could help maximize revenue."
   ]
  }
 ],
 "metadata": {
  "kernelspec": {
   "display_name": "Python 3 (ipykernel)",
   "language": "python",
   "name": "python3"
  },
  "language_info": {
   "codemirror_mode": {
    "name": "ipython",
    "version": 3
   },
   "file_extension": ".py",
   "mimetype": "text/x-python",
   "name": "python",
   "nbconvert_exporter": "python",
   "pygments_lexer": "ipython3",
   "version": "3.11.5"
  }
 },
 "nbformat": 4,
 "nbformat_minor": 5
}
